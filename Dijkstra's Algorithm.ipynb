{
 "cells": [
  {
   "cell_type": "code",
   "execution_count": 1,
   "metadata": {
    "collapsed": true
   },
   "outputs": [],
   "source": [
    "import numpy as np"
   ]
  },
  {
   "cell_type": "code",
   "execution_count": 2,
   "metadata": {
    "collapsed": false
   },
   "outputs": [],
   "source": [
    "class Dijkstras_Algorithm:\n",
    "    #初期設定\n",
    "    def __init__(self,a,M,n):   #nはネットワーク数\n",
    "        self.M= M\n",
    "        self.a= a\n",
    "        self.S =[]\n",
    "        self.S_ = [(i+1) for i in range (n)]\n",
    "        self.p =[0 for i in range (n)]\n",
    "        self.d =[np.inf for i in range (n)]\n",
    "        self.d[0]=0\n",
    "        self.D =[0 for i in range (n)]\n",
    "\n",
    "        \n",
    "    def dijkstras_algorithm(self):\n",
    "        for l in range(n):\n",
    "            #操作①：vを見つけ、SとS_を分ける操作(Sと S_でのv移動)\n",
    "            v=0\n",
    "            for i in range(n):\n",
    "                if self.D[i] == min(self.D):\n",
    "                    v=i+1\n",
    "                else:\n",
    "                    pass            \n",
    "            self.S.append(v)\n",
    "            self.S_.remove(v)\n",
    "            \n",
    "            #操作②dとpの決定　\n",
    "            #操作②　　（１）探索対象jの発見　　　（jはvの接続先：v→j ） 例：v=2の場合 j=3,4\n",
    "            J=[]\n",
    "            for i in range(n):\n",
    "                if self.M[(v-1),:][i] == 1:\n",
    "                    J.append(i+1)\n",
    "                else:\n",
    "                    pass\n",
    "        \n",
    "            #操作②　　（２）d(j)とd(v)+a(vj)の大小比較 (d(j)と初期値dとの比較) から、pとdを決定する\n",
    "            for k in range(len(J)):\n",
    "                j=J[k]\n",
    "                if self.d[j-1] > self.d[v-1]+self.a[v-1,j-1]:\n",
    "                    self.p[j-1] = v\n",
    "                    self.d[j-1] = self.d[v-1]+self.a[v-1,j-1]\n",
    "                else:\n",
    "                    pass\n",
    "            \n",
    "            #操作③　　最後にdの処理　（Dは確定したd）\n",
    "            for i in range(len(self.S)):\n",
    "                self.D[self.S[i]-1]= np.inf\n",
    "            for i in range(len(self.S_)):\n",
    "                self.D[self.S_[i]-1]=self.d[self.S_[i]-1]\n",
    "        \n",
    "        print(\"dの値:\",self.d, \"pの値:\",self.p)\n",
    "        \n",
    "        #最後の経路出力\n",
    "        self.text=str(n)\n",
    "        self.P=self.p[n-1]\n",
    "        \n",
    "        if self.p[n-1] == 1:\n",
    "            self.text = \"最短経路:\"+str(1)+\"→\"+ self.text\n",
    "        else:\n",
    "            self.text = str(self.p[n-1])+\"→\"+self.text\n",
    "            self.P=self.p[n-1]\n",
    "        \n",
    "        for i in range(n-1):\n",
    "            if self.p[self.P-1] == 1: \n",
    "                self.text = \"最短経路:\"+str(1)+\"→\"+ self.text\n",
    "                break\n",
    "            else: \n",
    "                self.text = str(self.p[self.P])+\"→\"+self.text\n",
    "                self.P=self.p[self.P]\n",
    "        \n",
    "        print(self.text)"
   ]
  },
  {
   "cell_type": "code",
   "execution_count": 3,
   "metadata": {
    "collapsed": true
   },
   "outputs": [],
   "source": [
    "#行列の初期設定\n",
    "M = np.array([0,1,1,0,0,0,0,1,1,0,0,0,0,1,1,0,0,0,0,1,0,0,0,0,0]).reshape(5,5)\n",
    "a = np.array([0,50,80,0,0,0,0,20,15,0,0,0,0,10,15,0,0,0,0,30,0,0,0,0,0]).reshape(5,5)\n",
    "n=5"
   ]
  },
  {
   "cell_type": "code",
   "execution_count": 4,
   "metadata": {
    "collapsed": false
   },
   "outputs": [
    {
     "name": "stdout",
     "output_type": "stream",
     "text": [
      "dの値: [0, 50, 70, 65, 85] pの値: [0, 1, 2, 2, 3]\n",
      "最短経路:1→2→3→5\n"
     ]
    }
   ],
   "source": [
    "c = Dijkstras_Algorithm(a,M,n)\n",
    "c.dijkstras_algorithm()"
   ]
  }
 ],
 "metadata": {
  "kernelspec": {
   "display_name": "Python 3",
   "language": "python",
   "name": "python3"
  },
  "language_info": {
   "codemirror_mode": {
    "name": "ipython",
    "version": 3
   },
   "file_extension": ".py",
   "mimetype": "text/x-python",
   "name": "python",
   "nbconvert_exporter": "python",
   "pygments_lexer": "ipython3",
   "version": "3.6.0"
  }
 },
 "nbformat": 4,
 "nbformat_minor": 2
}
