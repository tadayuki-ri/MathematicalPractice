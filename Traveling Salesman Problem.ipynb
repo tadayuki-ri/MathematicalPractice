{
 "cells": [
  {
   "cell_type": "code",
   "execution_count": 1,
   "metadata": {},
   "outputs": [
    {
     "data": {
      "text/plain": [
       "'%.0f'"
      ]
     },
     "execution_count": 1,
     "metadata": {},
     "output_type": "execute_result"
    }
   ],
   "source": [
    "import numpy as np\n",
    "import pandas as pd\n",
    "from pandas import Series,DataFrame\n",
    "import copy\n",
    "%precision 0"
   ]
  },
  {
   "cell_type": "code",
   "execution_count": 2,
   "metadata": {
    "collapsed": true
   },
   "outputs": [],
   "source": [
    "class Traveling_Salesman_Problem :\n",
    "    def __init__(self,D):  #Dは行列\n",
    "        self.d=0\n",
    "        self.D=D\n",
    "        self.n=len(self.D.index)\n",
    "        self.g=1\n",
    "        self.X=DataFrame(np.zeros((self.n, self.n)))\n",
    "\n",
    "    def seeking_min(self, D):  \n",
    "        g=0\n",
    "        D1 = copy.deepcopy(D)\n",
    "        n=len(D.index)\n",
    "\n",
    "        for i in range (n):\n",
    "            g += D.values[i,:].min()\n",
    "            if D.values[i,:].min()==np.inf:\n",
    "                g = np.inf\n",
    "                D1.values[i,:] = np.inf\n",
    "            else:\n",
    "                D1.values[i,:] = D.values[i,:] - D.values[i,:].min()\n",
    "        for i in range (n):\n",
    "            g += D1.values[:,i].min()\n",
    "        return g            \n",
    "\n",
    "    def traveling_salesman_problem(self):\n",
    "        while self.g > self.d:\n",
    "            #最小値をとる行列の値を一つ選択\n",
    "            [P,Q]=np.where(self.D==self.D.values.min())\n",
    "            p=P[0]\n",
    "            q=Q[0]\n",
    "        \n",
    "            # 経路を選択する場合\n",
    "            D1=copy.deepcopy(self.D)  \n",
    "            d1=D1.values[p,q]\n",
    "\n",
    "            if self.D.index[p] in self.D.columns and self.D.columns[q] in self.D.index:\n",
    "                [[p_]]=np.where(self.D.columns==self.D.index[p])\n",
    "                [[q_]]=np.where(self.D.index==self.D.columns[q])\n",
    "                D1.values[q_,p_]=np.inf\n",
    "            else:\n",
    "                pass\n",
    "\n",
    "            D1=D1.drop([self.D.index[p]], axis=0).drop([self.D.columns[q]],axis=1)\n",
    "            g1=d1+ self.seeking_min(D1)+self.d\n",
    "        \n",
    "            # 経路 を選択しない場合\n",
    "            D0=copy.deepcopy(self.D)\n",
    "            D0.values[p,q]=np.inf\n",
    "            g0=self.seeking_min(D0)+self.d\n",
    "        \n",
    "            #分枝\n",
    "            if g1<=g0:\n",
    "                self.X.values[self.D.index[p],self.D.columns[q]]=1\n",
    "                self.D=D1\n",
    "                self.d+=d1\n",
    "                self.g=g1\n",
    "            else:\n",
    "                self.D=D0\n",
    "                #dは操作なし\n",
    "                self.g=g0\n",
    "                #Xも操作なし\n",
    "        else:\n",
    "            print(\"最適値:\",int(self.g))\n",
    "        \n",
    "        #最短経路出力\n",
    "        self.text=\"最短経路:1\"\n",
    "\n",
    "        for i in range(self.n):\n",
    "            if self.X.values[0,i] == 1:\n",
    "                self.text = self.text + \"→\" +str(i+1)\n",
    "                k=i\n",
    "            else:\n",
    "                pass\n",
    "\n",
    "        for j in range (self.n-1):\n",
    "            for i in range(self.n):\n",
    "                if self.X.values[k,i] == 1:\n",
    "                    self.text = self.text + \"→\" +str(i+1)\n",
    "                    k=i\n",
    "                    break\n",
    "                else:\n",
    "                    pass\n",
    "        \n",
    "        print(self.text)"
   ]
  },
  {
   "cell_type": "code",
   "execution_count": 3,
   "metadata": {
    "collapsed": true
   },
   "outputs": [],
   "source": [
    "#初期条件\n",
    "original_D=DataFrame(np.array([np.inf,21,7,13,15,11,np.inf,19,12,25,15,24,np.inf,13,5,6,17,9,np.inf,22,28,6,11,5,np.inf]).reshape(5,5))"
   ]
  },
  {
   "cell_type": "code",
   "execution_count": 4,
   "metadata": {},
   "outputs": [
    {
     "name": "stdout",
     "output_type": "stream",
     "text": [
      "最適値: 36\n",
      "最短経路:1→3→5→2→4→1\n"
     ]
    }
   ],
   "source": [
    "c = Traveling_Salesman_Problem(original_D)\n",
    "c.traveling_salesman_problem()"
   ]
  }
 ],
 "metadata": {
  "kernelspec": {
   "display_name": "Python 3",
   "language": "python",
   "name": "python3"
  },
  "language_info": {
   "codemirror_mode": {
    "name": "ipython",
    "version": 3
   },
   "file_extension": ".py",
   "mimetype": "text/x-python",
   "name": "python",
   "nbconvert_exporter": "python",
   "pygments_lexer": "ipython3",
   "version": "3.6.1"
  }
 },
 "nbformat": 4,
 "nbformat_minor": 2
}
